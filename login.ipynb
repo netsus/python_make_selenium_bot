{
 "cells": [
  {
   "cell_type": "code",
   "execution_count": 1,
   "metadata": {
    "ExecuteTime": {
     "end_time": "2021-06-16T14:23:18.551402Z",
     "start_time": "2021-06-16T14:23:18.248405Z"
    }
   },
   "outputs": [],
   "source": [
    "from selenium import webdriver\n",
    "from webdriver_manager.chrome import ChromeDriverManager"
   ]
  },
  {
   "cell_type": "code",
   "execution_count": 4,
   "metadata": {
    "ExecuteTime": {
     "end_time": "2021-06-16T14:24:01.214833Z",
     "start_time": "2021-06-16T14:23:54.540837Z"
    }
   },
   "outputs": [],
   "source": [
    "browser = webdriver.Chrome('chromedriver.exe')\n",
    "browser.get(\"https://repl.it/login\")"
   ]
  },
  {
   "cell_type": "code",
   "execution_count": 11,
   "metadata": {
    "ExecuteTime": {
     "end_time": "2021-06-16T14:44:11.991876Z",
     "start_time": "2021-06-16T14:44:11.955873Z"
    }
   },
   "outputs": [],
   "source": [
    "username_input = browser.find_element_by_xpath(\n",
    "    \"/html/body/div/div/div[3]/div/div[1]/div[2]/form/div[1]/div/div/input\"\n",
    ")\n",
    "password_input = browser.find_element_by_xpath(\n",
    "\"/html/body/div/div/div[3]/div/div[1]/div[2]/form/div[2]/div/div/div/input\"\n",
    ")"
   ]
  },
  {
   "cell_type": "code",
   "execution_count": 9,
   "metadata": {
    "ExecuteTime": {
     "end_time": "2021-06-16T14:34:14.995151Z",
     "start_time": "2021-06-16T14:34:14.979149Z"
    }
   },
   "outputs": [],
   "source": [
    "# browser.find_element_by_link_text(\"Log in\") ## a태그(링크태그)에서 Text 부분이 Log in인 element 찾기\n",
    "# browser.find_element_by_partial_link_text(\"Log\") ## a태그(링크태그)에서 Text 부분에 Log가 포함된 element 찾기"
   ]
  },
  {
   "cell_type": "code",
   "execution_count": 13,
   "metadata": {
    "ExecuteTime": {
     "end_time": "2021-06-16T14:44:14.198648Z",
     "start_time": "2021-06-16T14:44:13.993646Z"
    }
   },
   "outputs": [],
   "source": [
    "username_input.send_keys(\"cwjcsk@naver.com\")\n",
    "password_input.send_keys(input(\"What is your password?\"))\n",
    "\n",
    "button_tag = browser.find_element_by_tag_name(\"button\")\n",
    "if button_tag.text == \"Log in\":\n",
    "    button_tag.click()"
   ]
  }
 ],
 "metadata": {
  "kernelspec": {
   "display_name": "Python 3",
   "language": "python",
   "name": "python3"
  },
  "language_info": {
   "codemirror_mode": {
    "name": "ipython",
    "version": 3
   },
   "file_extension": ".py",
   "mimetype": "text/x-python",
   "name": "python",
   "nbconvert_exporter": "python",
   "pygments_lexer": "ipython3",
   "version": "3.8.5"
  },
  "toc": {
   "base_numbering": 1,
   "nav_menu": {},
   "number_sections": true,
   "sideBar": true,
   "skip_h1_title": false,
   "title_cell": "Table of Contents",
   "title_sidebar": "Contents",
   "toc_cell": false,
   "toc_position": {},
   "toc_section_display": true,
   "toc_window_display": false
  }
 },
 "nbformat": 4,
 "nbformat_minor": 4
}
