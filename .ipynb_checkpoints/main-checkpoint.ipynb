{
 "cells": [
  {
   "cell_type": "code",
   "execution_count": 17,
   "metadata": {
    "ExecuteTime": {
     "end_time": "2021-05-20T15:31:40.771516Z",
     "start_time": "2021-05-20T15:31:32.990620Z"
    }
   },
   "outputs": [
    {
     "name": "stderr",
     "output_type": "stream",
     "text": [
      "\n",
      "\n",
      "====== WebDriver manager ======\n",
      "Current google-chrome version is 90.0.4430\n",
      "Get LATEST driver version for 90.0.4430\n",
      "Get LATEST driver version for 90.0.4430\n",
      "Trying to download new driver from https://chromedriver.storage.googleapis.com/90.0.4430.24/chromedriver_win32.zip\n",
      "Driver has been saved in cache [C:\\Users\\user\\.wdm\\drivers\\chromedriver\\win32\\90.0.4430.24]\n"
     ]
    },
    {
     "name": "stdout",
     "output_type": "stream",
     "text": [
      "관련 질문\n",
      "Where is the best place to buy a domain name?\n",
      "\n",
      "Can you buy a domain permanently?\n",
      "\n",
      "Does Shopify give you a domain?\n",
      "\n",
      "Does GoDaddy own my domain name?\n",
      "\n",
      "사용자 의견\n",
      "g\n",
      "g\n",
      "g\n",
      "g\n",
      "g\n",
      "g\n",
      "g\n",
      "g\n",
      "g\n",
      "g\n"
     ]
    }
   ],
   "source": [
    "from selenium import webdriver\n",
    "from selenium.webdriver.common.keys import Keys\n",
    "from selenium.webdriver.common.by import By\n",
    "from selenium.webdriver.support import expected_conditions as EC\n",
    "from selenium.webdriver.support.ui import WebDriverWait\n",
    "from webdriver_manager.chrome import ChromeDriverManager\n",
    "\n",
    "browser = webdriver.Chrome(ChromeDriverManager().install())\n",
    "browser.get(\"https://www.google.com/\")\n",
    "\n",
    "KEYWORD=\"buy domain\"\n",
    "\n",
    "search_bar = browser.find_element_by_class_name(\"gLFyf\")\n",
    "\n",
    "search_bar.send_keys(KEYWORD)\n",
    "search_bar.send_keys(Keys.ENTER)\n",
    "\n",
    "shitty_element = WebDriverWait(browser, 10).until(\n",
    "    EC.presence_of_element_located((By.CLASS_NAME, \"g-blk\"))\n",
    ")\n",
    "\n",
    "print(shitty_element.text)\n",
    "\n",
    "## buy domain 검색에서 관련질문 Web Element없애기\n",
    "browser.execute_script(\"\"\"\n",
    "const shitty = arguments[0];\n",
    "shitty.parentElement.removeChild(shitty)\n",
    "\"\"\",\n",
    " shitty_element)\n",
    "\n",
    "search_results = browser.find_elements_by_class_name(\"g\")\n",
    "# Webelement : 웹페이지에 있는 요소 \n",
    "\n",
    "for idx,search_result in enumerate(search_results):\n",
    "    class_name = search_result.get_attribute(\"class\")\n",
    "    print(class_name)\n",
    "    search_result.screenshot(f\"screenshots/{KEYWORD}x{idx}.png\")"
   ]
  },
  {
   "cell_type": "code",
   "execution_count": null,
   "metadata": {},
   "outputs": [],
   "source": [
    "browser.quit()"
   ]
  },
  {
   "cell_type": "markdown",
   "metadata": {},
   "source": [
    "### python to Js"
   ]
  },
  {
   "cell_type": "code",
   "execution_count": 13,
   "metadata": {
    "ExecuteTime": {
     "end_time": "2021-05-20T15:00:09.292520Z",
     "start_time": "2021-05-20T15:00:09.256518Z"
    }
   },
   "outputs": [],
   "source": [
    "## example1\n",
    "browser.execute_script(\"alert('hello')\")"
   ]
  },
  {
   "cell_type": "code",
   "execution_count": 15,
   "metadata": {
    "ExecuteTime": {
     "end_time": "2021-05-20T15:02:11.516083Z",
     "start_time": "2021-05-20T15:02:11.472084Z"
    }
   },
   "outputs": [],
   "source": [
    "## example2\n",
    "browser.execute_script(\"\"\"\n",
    "const payload = arguments[1];\n",
    "alert(payload)\n",
    "\"\"\", \"hello!\",\"how\")"
   ]
  },
  {
   "cell_type": "code",
   "execution_count": 16,
   "metadata": {
    "ExecuteTime": {
     "end_time": "2021-05-20T15:06:13.635308Z",
     "start_time": "2021-05-20T15:06:13.613312Z"
    }
   },
   "outputs": [],
   "source": [
    "## buy domain 검색에서 관련질문 Web Element없애기\n",
    "browser.execute_script(\"\"\"\n",
    "const shitty = arguments[0];\n",
    "shitty.parentElement.removeChild(shitty)\n",
    "\"\"\",\n",
    " shitty_element)"
   ]
  },
  {
   "cell_type": "code",
   "execution_count": 12,
   "metadata": {
    "ExecuteTime": {
     "end_time": "2021-05-20T14:54:00.091139Z",
     "start_time": "2021-05-20T14:53:59.522147Z"
    }
   },
   "outputs": [
    {
     "data": {
      "text/plain": [
       "True"
      ]
     },
     "execution_count": 12,
     "metadata": {},
     "output_type": "execute_result"
    }
   ],
   "source": [
    "shitty_element.screenshot(\"shitty.png\")"
   ]
  },
  {
   "cell_type": "code",
   "execution_count": 10,
   "metadata": {
    "ExecuteTime": {
     "end_time": "2021-05-20T14:40:34.900583Z",
     "start_time": "2021-05-20T14:40:34.867584Z"
    }
   },
   "outputs": [],
   "source": [
    "search_results = browser.find_elements_by_class_name(\"g\")\n",
    "# Webelement : 웹페이지에 있는 요소 \n",
    "\n",
    "for idx,search_result in enumerate(search_results):\n",
    "    class_name = search_result.get_attribute(\"class\")\n",
    "    print(class_name)\n",
    "    search_result.screenshot(f\"screenshots/{KEYWORD}x{idx}.png\")"
   ]
  }
 ],
 "metadata": {
  "kernelspec": {
   "display_name": "Python 3",
   "language": "python",
   "name": "python3"
  },
  "language_info": {
   "codemirror_mode": {
    "name": "ipython",
    "version": 3
   },
   "file_extension": ".py",
   "mimetype": "text/x-python",
   "name": "python",
   "nbconvert_exporter": "python",
   "pygments_lexer": "ipython3",
   "version": "3.8.5"
  },
  "toc": {
   "base_numbering": 1,
   "nav_menu": {},
   "number_sections": true,
   "sideBar": true,
   "skip_h1_title": false,
   "title_cell": "Table of Contents",
   "title_sidebar": "Contents",
   "toc_cell": false,
   "toc_position": {},
   "toc_section_display": true,
   "toc_window_display": false
  }
 },
 "nbformat": 4,
 "nbformat_minor": 4
}
