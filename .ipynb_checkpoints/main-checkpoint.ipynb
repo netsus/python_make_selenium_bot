{
 "cells": [
  {
   "cell_type": "code",
   "execution_count": 11,
   "metadata": {
    "ExecuteTime": {
     "end_time": "2021-05-21T17:05:34.190163Z",
     "start_time": "2021-05-21T17:05:33.798156Z"
    }
   },
   "outputs": [],
   "source": [
    "from selenium import webdriver\n",
    "from selenium.webdriver.common.keys import Keys\n",
    "from selenium.webdriver.common.by import By\n",
    "from selenium.webdriver.support import expected_conditions as EC\n",
    "from selenium.webdriver.support.ui import WebDriverWait\n",
    "from webdriver_manager.chrome import ChromeDriverManager\n",
    "\n",
    "browser = webdriver.Chrome(ChromeDriverManager().install())\n",
    "browser.get(\"https://www.google.com/\")\n",
    "\n",
    "KEYWORD=\"python books\"\n",
    "\n",
    "search_bar = browser.find_element_by_class_name(\"gLFyf\")\n",
    "\n",
    "search_bar.send_keys(KEYWORD)\n",
    "search_bar.send_keys(Keys.ENTER)\n",
    "\n",
    "shitty_element = WebDriverWait(browser, 10).until(\n",
    "    EC.presence_of_element_located((By.CLASS_NAME, \"g-blk\"))\n",
    ")\n",
    "\n",
    "print(shitty_element.text)\n",
    "\n",
    "## buy domain 검색에서 관련질문 Web Element없애기\n",
    "browser.execute_script(\"\"\"\n",
    "const shitty = arguments[0];\n",
    "shitty.parentElement.removeChild(shitty)\n",
    "\"\"\",\n",
    " shitty_element)\n",
    "\n",
    "search_results = browser.find_elements_by_class_name(\"g\")\n",
    "# Webelement : 웹페이지에 있는 요소 \n",
    "\n",
    "for idx,search_result in enumerate(search_results):\n",
    "    class_name = search_result.get_attribute(\"class\")\n",
    "    print(class_name)\n",
    "    search_result.screenshot(f\"screenshots/{KEYWORD}x{idx}.png\")\n",
    "\n",
    "browser.quit()"
   ]
  },
  {
   "cell_type": "code",
   "execution_count": 12,
   "metadata": {
    "ExecuteTime": {
     "end_time": "2021-05-21T17:05:35.461041Z",
     "start_time": "2021-05-21T17:05:35.450038Z"
    }
   },
   "outputs": [],
   "source": [
    "class GoogleKeywordScreenshooter():\n",
    "    \n",
    "    def __init__(self, keyword, screenshots_dir):\n",
    "        self.browser = webdriver.Chrome(ChromeDriverManager().install())\n",
    "        self.keyword = keyword\n",
    "        self.screenshots_dir = screenshots_dir\n",
    "        \n",
    "    def start(self):\n",
    "        self.browser.get(\"https://www.google.com/\")\n",
    "        search_bar = self.browser.find_element_by_class_name(\"gLFyf\")\n",
    "        search_bar.send_keys(self.keyword)\n",
    "        search_bar.send_keys(Keys.ENTER)\n",
    "        try:\n",
    "            shitty_element = WebDriverWait(self.browser, 3).until(\n",
    "                EC.presence_of_element_located((By.CLASS_NAME, \"g-blk\"))\n",
    "            )\n",
    "            self.browser.execute_script(\"\"\"\n",
    "            const shitty = arguments[0];\n",
    "            shitty.parentElement.removeChild(shitty)\n",
    "            \"\"\",\n",
    "             shitty_element)\n",
    "        except Exception:\n",
    "            pass\n",
    "\n",
    "        search_results = self.browser.find_elements_by_class_name(\"g\")\n",
    "        # Webelement : 웹페이지에 있는 요소 \n",
    "\n",
    "        for idx,search_result in enumerate(search_results):\n",
    "            class_name = search_result.get_attribute(\"class\")\n",
    "            search_result.screenshot(f\"{self.screenshots_dir}/{self.keyword}x{idx}.png\")\n",
    "    def finish(self):\n",
    "        self.browser.quit()"
   ]
  },
  {
   "cell_type": "code",
   "execution_count": 19,
   "metadata": {
    "ExecuteTime": {
     "end_time": "2021-05-21T17:10:54.229418Z",
     "start_time": "2021-05-21T17:10:30.896475Z"
    }
   },
   "outputs": [
    {
     "name": "stderr",
     "output_type": "stream",
     "text": [
      "\n",
      "\n",
      "====== WebDriver manager ======\n",
      "Current google-chrome version is 90.0.4430\n",
      "Get LATEST driver version for 90.0.4430\n",
      "Driver [C:\\Users\\user\\.wdm\\drivers\\chromedriver\\win32\\90.0.4430.24\\chromedriver.exe] found in cache\n",
      "\n",
      "\n",
      "====== WebDriver manager ======\n",
      "Current google-chrome version is 90.0.4430\n",
      "Get LATEST driver version for 90.0.4430\n",
      "Driver [C:\\Users\\user\\.wdm\\drivers\\chromedriver\\win32\\90.0.4430.24\\chromedriver.exe] found in cache\n"
     ]
    }
   ],
   "source": [
    "domain_competitors = GoogleKeywordScreenshooter('buy domain','screenshots_test')\n",
    "domain_competitors.start()\n",
    "domain_competitors.finish()\n",
    "python_competitors = GoogleKeywordScreenshooter('python book','screenshots_test')\n",
    "python_competitors.start()\n",
    "python_competitors.finish()"
   ]
  },
  {
   "cell_type": "markdown",
   "metadata": {},
   "source": [
    "### python to Js"
   ]
  },
  {
   "cell_type": "code",
   "execution_count": 13,
   "metadata": {
    "ExecuteTime": {
     "end_time": "2021-05-20T15:00:09.292520Z",
     "start_time": "2021-05-20T15:00:09.256518Z"
    }
   },
   "outputs": [],
   "source": [
    "## example1\n",
    "browser.execute_script(\"alert('hello')\")"
   ]
  },
  {
   "cell_type": "code",
   "execution_count": 15,
   "metadata": {
    "ExecuteTime": {
     "end_time": "2021-05-20T15:02:11.516083Z",
     "start_time": "2021-05-20T15:02:11.472084Z"
    }
   },
   "outputs": [],
   "source": [
    "## example2\n",
    "browser.execute_script(\"\"\"\n",
    "const payload = arguments[0];\n",
    "alert(payload)\n",
    "\"\"\",\"hello!\")"
   ]
  },
  {
   "cell_type": "code",
   "execution_count": 16,
   "metadata": {
    "ExecuteTime": {
     "end_time": "2021-05-20T15:06:13.635308Z",
     "start_time": "2021-05-20T15:06:13.613312Z"
    }
   },
   "outputs": [],
   "source": [
    "## buy domain 검색에서 관련질문 Web Element없애기\n",
    "browser.execute_script(\"\"\"\n",
    "const shitty = arguments[0];\n",
    "shitty.parentElement.removeChild(shitty)\n",
    "\"\"\",\n",
    " shitty_element)"
   ]
  }
 ],
 "metadata": {
  "kernelspec": {
   "display_name": "Python 3",
   "language": "python",
   "name": "python3"
  },
  "language_info": {
   "codemirror_mode": {
    "name": "ipython",
    "version": 3
   },
   "file_extension": ".py",
   "mimetype": "text/x-python",
   "name": "python",
   "nbconvert_exporter": "python",
   "pygments_lexer": "ipython3",
   "version": "3.8.5"
  },
  "toc": {
   "base_numbering": 1,
   "nav_menu": {},
   "number_sections": true,
   "sideBar": true,
   "skip_h1_title": false,
   "title_cell": "Table of Contents",
   "title_sidebar": "Contents",
   "toc_cell": false,
   "toc_position": {},
   "toc_section_display": true,
   "toc_window_display": false
  }
 },
 "nbformat": 4,
 "nbformat_minor": 4
}
