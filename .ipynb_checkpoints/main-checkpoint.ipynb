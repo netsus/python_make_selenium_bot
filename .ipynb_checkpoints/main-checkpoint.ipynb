{
 "cells": [
  {
   "cell_type": "code",
   "execution_count": 23,
   "metadata": {
    "ExecuteTime": {
     "end_time": "2021-05-14T14:56:31.116204Z",
     "start_time": "2021-05-14T14:56:25.778117Z"
    }
   },
   "outputs": [
    {
     "name": "stderr",
     "output_type": "stream",
     "text": [
      "\n",
      "\n",
      "====== WebDriver manager ======\n",
      "Current google-chrome version is 90.0.4430\n",
      "Get LATEST driver version for 90.0.4430\n",
      "Driver [C:\\Users\\user\\.wdm\\drivers\\chromedriver\\win32\\90.0.4430.24\\chromedriver.exe] found in cache\n"
     ]
    }
   ],
   "source": [
    "from selenium import webdriver\n",
    "from selenium.webdriver.common.keys import Keys\n",
    "from webdriver_manager.chrome import ChromeDriverManager\n",
    "\n",
    "browser = webdriver.Chrome(ChromeDriverManager().install())\n",
    "browser.get(\"https://www.google.com/\")"
   ]
  },
  {
   "cell_type": "code",
   "execution_count": 38,
   "metadata": {
    "ExecuteTime": {
     "end_time": "2021-05-14T15:16:32.811549Z",
     "start_time": "2021-05-14T15:16:32.758553Z"
    }
   },
   "outputs": [],
   "source": [
    "search_bar = browser.find_element_by_class_name(\"gLFyf\")"
   ]
  },
  {
   "cell_type": "code",
   "execution_count": 39,
   "metadata": {
    "ExecuteTime": {
     "end_time": "2021-05-14T15:16:33.572016Z",
     "start_time": "2021-05-14T15:16:33.417999Z"
    }
   },
   "outputs": [],
   "source": [
    "search_bar.send_keys(\"Hello world!\")"
   ]
  },
  {
   "cell_type": "code",
   "execution_count": 40,
   "metadata": {
    "ExecuteTime": {
     "end_time": "2021-05-14T15:16:36.132581Z",
     "start_time": "2021-05-14T15:16:34.376244Z"
    }
   },
   "outputs": [],
   "source": [
    "search_bar.send_keys(Keys.ENTER)"
   ]
  },
  {
   "cell_type": "code",
   "execution_count": 41,
   "metadata": {
    "ExecuteTime": {
     "end_time": "2021-05-14T15:16:36.966787Z",
     "start_time": "2021-05-14T15:16:36.932788Z"
    }
   },
   "outputs": [],
   "source": [
    "search_results = browser.find_elements_by_class_name(\"g\")\n",
    "# Webelement : 웹페이지에 있는 요소 "
   ]
  },
  {
   "cell_type": "code",
   "execution_count": 42,
   "metadata": {
    "ExecuteTime": {
     "end_time": "2021-05-14T15:16:38.213782Z",
     "start_time": "2021-05-14T15:16:37.871785Z"
    }
   },
   "outputs": [
    {
     "name": "stdout",
     "output_type": "stream",
     "text": [
      "Hello, world! - 나무위키\n",
      "HELLO WORLD - 나무위키\n",
      "\"Hello, World!\" 프로그램 - 위키백과, 우리 모두의 백과사전\n",
      "왜 Hello World를 치는거지? Hello World!의 유래 - 빠르크\n",
      "3.3 Hello, world! 출력하기 - C 언어 코딩 도장\n",
      "29.1 Hello, world! 출력 함수 만들기 - 파이썬 코딩 도장\n",
      "C 프로그래밍 입문/Hello World - 위키책\n",
      "Hello World - C# 소개 대화형 C# 자습서 | Microsoft Docs\n",
      "파이썬 입문 - print('Hello World') - 실습 | 프로그래머스\n",
      "이미지\n"
     ]
    }
   ],
   "source": [
    "for search_result in search_results:\n",
    "    try:\n",
    "        title = search_result.find_element_by_tag_name(\"h3\")\n",
    "        print(title.text)\n",
    "    except:\n",
    "        pass"
   ]
  },
  {
   "cell_type": "code",
   "execution_count": null,
   "metadata": {},
   "outputs": [],
   "source": []
  },
  {
   "cell_type": "code",
   "execution_count": 50,
   "metadata": {
    "ExecuteTime": {
     "end_time": "2021-05-14T15:24:40.718704Z",
     "start_time": "2021-05-14T15:24:40.699709Z"
    }
   },
   "outputs": [
    {
     "name": "stdout",
     "output_type": "stream",
     "text": [
      "09945187-5eaa-48fd-8b87-665cdb0bdc7e\n"
     ]
    }
   ],
   "source": [
    "print(search_result.id)"
   ]
  },
  {
   "cell_type": "code",
   "execution_count": 22,
   "metadata": {
    "ExecuteTime": {
     "end_time": "2021-05-14T14:55:31.357045Z",
     "start_time": "2021-05-14T14:55:29.082888Z"
    }
   },
   "outputs": [],
   "source": [
    "browser.quit()"
   ]
  }
 ],
 "metadata": {
  "kernelspec": {
   "display_name": "Python 3",
   "language": "python",
   "name": "python3"
  },
  "language_info": {
   "codemirror_mode": {
    "name": "ipython",
    "version": 3
   },
   "file_extension": ".py",
   "mimetype": "text/x-python",
   "name": "python",
   "nbconvert_exporter": "python",
   "pygments_lexer": "ipython3",
   "version": "3.8.5"
  },
  "toc": {
   "base_numbering": 1,
   "nav_menu": {},
   "number_sections": true,
   "sideBar": true,
   "skip_h1_title": false,
   "title_cell": "Table of Contents",
   "title_sidebar": "Contents",
   "toc_cell": false,
   "toc_position": {},
   "toc_section_display": true,
   "toc_window_display": false
  }
 },
 "nbformat": 4,
 "nbformat_minor": 4
}
