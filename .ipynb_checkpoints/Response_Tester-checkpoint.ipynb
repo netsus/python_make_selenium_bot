{
 "cells": [
  {
   "cell_type": "code",
   "execution_count": 1,
   "metadata": {
    "ExecuteTime": {
     "end_time": "2021-06-01T16:05:18.466351Z",
     "start_time": "2021-06-01T16:05:18.076344Z"
    }
   },
   "outputs": [],
   "source": [
    "import time\n",
    "from math import ceil\n",
    "from selenium import webdriver\n",
    "from webdriver_manager.chrome import ChromeDriverManager\n",
    "import subprocess as sp"
   ]
  },
  {
   "cell_type": "markdown",
   "metadata": {},
   "source": [
    "## Excuting Test ot OOP"
   ]
  },
  {
   "cell_type": "code",
   "execution_count": 15,
   "metadata": {
    "ExecuteTime": {
     "end_time": "2021-06-01T16:15:59.164255Z",
     "start_time": "2021-06-01T16:15:59.146254Z"
    }
   },
   "outputs": [],
   "source": [
    "class ResponsiveTester:\n",
    "    \n",
    "    def __init__(self, urls):\n",
    "        self.browser = webdriver.Chrome(ChromeDriverManager().install())\n",
    "        self.browser.maximize_window()\n",
    "        self.urls = urls\n",
    "        self.sizes = [480, 960, 1366, 1920]\n",
    "        \n",
    "    def screenshot(self, url, directory):\n",
    "        BROWSER_HEIGHT = self.browser.get_window_size()['height']\n",
    "        self.browser.get(url)\n",
    "        for size in self.sizes: ## width 별로 반복\n",
    "            self.browser.set_window_size(size, BROWSER_HEIGHT)\n",
    "            self.browser.execute_script(\"window.scrollTo(0,0)\") ## 최상단으로 이동\n",
    "            time.sleep(1)\n",
    "            scroll_size = self.browser.execute_script(\"return document.body.scrollHeight\") ## Js의 function 사용 - document의 높이 추출 (한페이지의 높이)\n",
    "            total_sections = ceil(scroll_size / BROWSER_HEIGHT) ## 전체 페이지의 높이를 browswer의 높이로 나누면 몇번 스크롤해야 할지가 나옴\n",
    "            for section in range(total_sections+1): # +1 한 이유는 0번쨰인 Top을 찍고, total_sections번 스크롤해서 내겨갈 것이기 때문 \n",
    "                self.browser.execute_script(f\"window.scrollTo(0, {(section) * BROWSER_HEIGHT})\")\n",
    "                self.browser.save_screenshot(f\"screenshots/{directory}/{size}x{section}.png\")\n",
    "                time.sleep(0.5)\n",
    "        \n",
    "    def start(self):\n",
    "        for url in self.urls:\n",
    "            directory = url.split('//')[1].split('.')[0]\n",
    "            sp.getstatusoutput(f\"mkdir screenshots/{directory}\")\n",
    "            self.screenshot(url, directory)"
   ]
  },
  {
   "cell_type": "code",
   "execution_count": 16,
   "metadata": {
    "ExecuteTime": {
     "end_time": "2021-06-01T16:15:59.648724Z",
     "start_time": "2021-06-01T16:15:59.634726Z"
    }
   },
   "outputs": [],
   "source": [
    "li = [\"http://nomadcoders.co\",'https://funbe.rocks/']"
   ]
  },
  {
   "cell_type": "code",
   "execution_count": 17,
   "metadata": {
    "ExecuteTime": {
     "end_time": "2021-06-01T16:16:02.863918Z",
     "start_time": "2021-06-01T16:16:00.385990Z"
    }
   },
   "outputs": [
    {
     "name": "stderr",
     "output_type": "stream",
     "text": [
      "\n",
      "\n",
      "====== WebDriver manager ======\n",
      "Current google-chrome version is 90.0.4430\n",
      "Get LATEST driver version for 90.0.4430\n",
      "Driver [C:\\Users\\user\\.wdm\\drivers\\chromedriver\\win32\\90.0.4430.24\\chromedriver.exe] found in cache\n"
     ]
    }
   ],
   "source": [
    "tester = ResponsiveTester(li)"
   ]
  },
  {
   "cell_type": "code",
   "execution_count": 18,
   "metadata": {
    "ExecuteTime": {
     "end_time": "2021-06-01T16:17:58.327682Z",
     "start_time": "2021-06-01T16:16:07.576840Z"
    }
   },
   "outputs": [],
   "source": [
    "tester.start()"
   ]
  },
  {
   "cell_type": "markdown",
   "metadata": {},
   "source": [
    "## Excuting Test"
   ]
  },
  {
   "cell_type": "code",
   "execution_count": 2,
   "metadata": {
    "ExecuteTime": {
     "end_time": "2021-05-31T15:54:03.675660Z",
     "start_time": "2021-05-31T15:53:59.286212Z"
    }
   },
   "outputs": [
    {
     "name": "stderr",
     "output_type": "stream",
     "text": [
      "\n",
      "\n",
      "====== WebDriver manager ======\n",
      "Current google-chrome version is 90.0.4430\n",
      "Get LATEST driver version for 90.0.4430\n",
      "Get LATEST driver version for 90.0.4430\n",
      "Trying to download new driver from https://chromedriver.storage.googleapis.com/90.0.4430.24/chromedriver_win32.zip\n",
      "Driver has been saved in cache [C:\\Users\\user\\.wdm\\drivers\\chromedriver\\win32\\90.0.4430.24]\n"
     ]
    }
   ],
   "source": [
    "browser = webdriver.Chrome(ChromeDriverManager().install())"
   ]
  },
  {
   "cell_type": "code",
   "execution_count": 3,
   "metadata": {
    "ExecuteTime": {
     "end_time": "2021-05-31T15:54:06.771711Z",
     "start_time": "2021-05-31T15:54:03.691665Z"
    }
   },
   "outputs": [],
   "source": [
    "browser.get(\"https://nomadcoders.co\")"
   ]
  },
  {
   "cell_type": "code",
   "execution_count": 4,
   "metadata": {
    "ExecuteTime": {
     "end_time": "2021-05-31T15:54:06.988728Z",
     "start_time": "2021-05-31T15:54:06.775711Z"
    }
   },
   "outputs": [],
   "source": [
    "browser.maximize_window()"
   ]
  },
  {
   "cell_type": "code",
   "execution_count": 18,
   "metadata": {
    "ExecuteTime": {
     "end_time": "2021-05-31T15:57:17.836413Z",
     "start_time": "2021-05-31T15:57:17.825405Z"
    }
   },
   "outputs": [],
   "source": [
    "# 브라우저 높이 확인\n",
    "BROWSER_HEIGHT = browser.get_window_size()['height']"
   ]
  },
  {
   "cell_type": "code",
   "execution_count": 5,
   "metadata": {
    "ExecuteTime": {
     "end_time": "2021-05-31T15:54:07.034715Z",
     "start_time": "2021-05-31T15:54:07.003718Z"
    }
   },
   "outputs": [],
   "source": [
    "## 배열에 스크린샷 찍을 웹의 사이즈들 저장\n",
    "sizes = [480, 960, 1366, 1920]"
   ]
  },
  {
   "cell_type": "code",
   "execution_count": 19,
   "metadata": {
    "ExecuteTime": {
     "end_time": "2021-05-31T15:57:25.770079Z",
     "start_time": "2021-05-31T15:57:18.045026Z"
    }
   },
   "outputs": [],
   "source": [
    "for size in sizes: ## width 별로 반복\n",
    "    browser.set_window_size(size, BROWSER_HEIGHT)\n",
    "    browser.execute_script(\"window.scrollTo(0,0)\") ## 최상단으로 이동\n",
    "    time.sleep(1)\n",
    "    scroll_size = browser.execute_script(\"return document.body.scrollHeight\") ## Js의 function 사용 - document의 높이 추출 (한페이지의 높이)\n",
    "    total_sections = ceil(scroll_size / BROWSER_HEIGHT) ## 전체 페이지의 높이를 browswer의 높이로 나누면 몇번 스크롤해야 할지가 나옴\n",
    "    for section in range(total_sections+1): # +1 한 이유는 0번쨰인 Top을 찍고, total_sections번 스크롤해서 내겨갈 것이기 때문 \n",
    "        browser.execute_script(f\"window.scrollTo(0, {(section) * BROWSER_HEIGHT})\")\n",
    "        browser.save_screenshot(f\"screenshots/{size}x{section}.png\")\n",
    "        time.sleep(0.5)"
   ]
  }
 ],
 "metadata": {
  "kernelspec": {
   "display_name": "Python 3",
   "language": "python",
   "name": "python3"
  },
  "language_info": {
   "codemirror_mode": {
    "name": "ipython",
    "version": 3
   },
   "file_extension": ".py",
   "mimetype": "text/x-python",
   "name": "python",
   "nbconvert_exporter": "python",
   "pygments_lexer": "ipython3",
   "version": "3.8.5"
  },
  "toc": {
   "base_numbering": 1,
   "nav_menu": {},
   "number_sections": true,
   "sideBar": true,
   "skip_h1_title": false,
   "title_cell": "Table of Contents",
   "title_sidebar": "Contents",
   "toc_cell": false,
   "toc_position": {},
   "toc_section_display": true,
   "toc_window_display": false
  }
 },
 "nbformat": 4,
 "nbformat_minor": 4
}
