{
 "cells": [
  {
   "cell_type": "code",
   "execution_count": 9,
   "metadata": {
    "ExecuteTime": {
     "end_time": "2021-05-16T16:10:22.648995Z",
     "start_time": "2021-05-16T16:10:22.634994Z"
    }
   },
   "outputs": [],
   "source": [
    "from selenium import webdriver\n",
    "from selenium.webdriver.common.keys import Keys\n",
    "from selenium.webdriver.common.by import By\n",
    "from selenium.webdriver.support import expected_conditions as EC\n",
    "from selenium.webdriver.support.ui import WebDriverWait\n",
    "from webdriver_manager.chrome import ChromeDriverManager"
   ]
  },
  {
   "cell_type": "code",
   "execution_count": 1,
   "metadata": {
    "ExecuteTime": {
     "end_time": "2021-05-16T16:01:47.282932Z",
     "start_time": "2021-05-16T16:01:41.785807Z"
    }
   },
   "outputs": [
    {
     "name": "stderr",
     "output_type": "stream",
     "text": [
      "\n",
      "\n",
      "====== WebDriver manager ======\n",
      "Current google-chrome version is 90.0.4430\n",
      "Get LATEST driver version for 90.0.4430\n",
      "Get LATEST driver version for 90.0.4430\n",
      "Trying to download new driver from https://chromedriver.storage.googleapis.com/90.0.4430.24/chromedriver_win32.zip\n",
      "Driver has been saved in cache [C:\\Users\\user\\.wdm\\drivers\\chromedriver\\win32\\90.0.4430.24]\n"
     ]
    }
   ],
   "source": [
    "browser = webdriver.Chrome(ChromeDriverManager().install())\n",
    "browser.get(\"https://www.google.com/\")"
   ]
  },
  {
   "cell_type": "code",
   "execution_count": 10,
   "metadata": {
    "ExecuteTime": {
     "end_time": "2021-05-16T16:11:20.147995Z",
     "start_time": "2021-05-16T16:11:20.128991Z"
    }
   },
   "outputs": [],
   "source": [
    "KEYWORD=\"buy domain\""
   ]
  },
  {
   "cell_type": "code",
   "execution_count": 11,
   "metadata": {
    "ExecuteTime": {
     "end_time": "2021-05-16T16:11:21.513418Z",
     "start_time": "2021-05-16T16:11:21.475418Z"
    }
   },
   "outputs": [],
   "source": [
    "search_bar = browser.find_element_by_class_name(\"gLFyf\")"
   ]
  },
  {
   "cell_type": "code",
   "execution_count": 12,
   "metadata": {
    "ExecuteTime": {
     "end_time": "2021-05-16T16:11:23.307028Z",
     "start_time": "2021-05-16T16:11:22.424250Z"
    }
   },
   "outputs": [],
   "source": [
    "search_bar.send_keys(KEYWORD)\n",
    "search_bar.send_keys(Keys.ENTER)"
   ]
  },
  {
   "cell_type": "code",
   "execution_count": 18,
   "metadata": {
    "ExecuteTime": {
     "end_time": "2021-05-16T16:14:11.454826Z",
     "start_time": "2021-05-16T16:14:11.417823Z"
    }
   },
   "outputs": [],
   "source": [
    "shitty_element = WebDriverWait(browser, 10).until(\n",
    "    EC.presence_of_element_located((By.CLASS_NAME, \"g-blk\"))\n",
    ")"
   ]
  },
  {
   "cell_type": "code",
   "execution_count": 21,
   "metadata": {
    "ExecuteTime": {
     "end_time": "2021-05-16T16:14:36.807696Z",
     "start_time": "2021-05-16T16:14:36.712699Z"
    }
   },
   "outputs": [
    {
     "name": "stdout",
     "output_type": "stream",
     "text": [
      "관련 질문\n",
      "Where is the best place to buy a domain name?\n",
      "\n",
      "Is buying domain names legal?\n",
      "\n",
      "Can you buy a domain permanently?\n",
      "\n",
      "Can you own your own domain?\n",
      "\n",
      "사용자 의견\n"
     ]
    }
   ],
   "source": [
    "print(shitty_element.text)"
   ]
  },
  {
   "cell_type": "code",
   "execution_count": 13,
   "metadata": {
    "ExecuteTime": {
     "end_time": "2021-05-16T16:11:28.104114Z",
     "start_time": "2021-05-16T16:11:28.081121Z"
    }
   },
   "outputs": [],
   "source": [
    "search_results = browser.find_elements_by_class_name(\"g\")\n",
    "# Webelement : 웹페이지에 있는 요소 "
   ]
  },
  {
   "cell_type": "code",
   "execution_count": 14,
   "metadata": {
    "ExecuteTime": {
     "end_time": "2021-05-16T16:11:37.013808Z",
     "start_time": "2021-05-16T16:11:36.897035Z"
    }
   },
   "outputs": [
    {
     "name": "stdout",
     "output_type": "stream",
     "text": [
      "g\n",
      "g\n",
      "g\n",
      "g kno-kp mnr-c g-blk\n",
      "g\n",
      "g\n",
      "g\n",
      "g\n",
      "g\n",
      "g\n",
      "g\n",
      "g\n",
      "g\n",
      "g\n",
      "g\n"
     ]
    }
   ],
   "source": [
    "for idx,search_result in enumerate(search_results):\n",
    "    class_name = search_result.get_attribute(\"class\")\n",
    "    print(class_name)\n",
    "#     if class_name == 'g':\n",
    "#         search_result.screenshot(f\"screenshots/{KEYWORD}x{idx}.png\")"
   ]
  },
  {
   "cell_type": "code",
   "execution_count": null,
   "metadata": {},
   "outputs": [],
   "source": []
  },
  {
   "cell_type": "code",
   "execution_count": 22,
   "metadata": {
    "ExecuteTime": {
     "end_time": "2021-05-14T14:55:31.357045Z",
     "start_time": "2021-05-14T14:55:29.082888Z"
    }
   },
   "outputs": [],
   "source": [
    "browser.quit()"
   ]
  }
 ],
 "metadata": {
  "kernelspec": {
   "display_name": "Python 3",
   "language": "python",
   "name": "python3"
  },
  "language_info": {
   "codemirror_mode": {
    "name": "ipython",
    "version": 3
   },
   "file_extension": ".py",
   "mimetype": "text/x-python",
   "name": "python",
   "nbconvert_exporter": "python",
   "pygments_lexer": "ipython3",
   "version": "3.8.5"
  },
  "toc": {
   "base_numbering": 1,
   "nav_menu": {},
   "number_sections": true,
   "sideBar": true,
   "skip_h1_title": false,
   "title_cell": "Table of Contents",
   "title_sidebar": "Contents",
   "toc_cell": false,
   "toc_position": {},
   "toc_section_display": true,
   "toc_window_display": false
  }
 },
 "nbformat": 4,
 "nbformat_minor": 4
}
