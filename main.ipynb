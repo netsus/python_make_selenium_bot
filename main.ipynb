{
 "cells": [
  {
   "cell_type": "code",
   "execution_count": 23,
   "metadata": {
    "ExecuteTime": {
     "end_time": "2021-05-14T14:56:31.116204Z",
     "start_time": "2021-05-14T14:56:25.778117Z"
    }
   },
   "outputs": [
    {
     "name": "stderr",
     "output_type": "stream",
     "text": [
      "\n",
      "\n",
      "====== WebDriver manager ======\n",
      "Current google-chrome version is 90.0.4430\n",
      "Get LATEST driver version for 90.0.4430\n",
      "Driver [C:\\Users\\user\\.wdm\\drivers\\chromedriver\\win32\\90.0.4430.24\\chromedriver.exe] found in cache\n"
     ]
    }
   ],
   "source": [
    "from selenium import webdriver\n",
    "from selenium.webdriver.common.keys import Keys\n",
    "from webdriver_manager.chrome import ChromeDriverManager\n",
    "\n",
    "browser = webdriver.Chrome(ChromeDriverManager().install())\n",
    "browser.get(\"https://www.google.com/\")"
   ]
  },
  {
   "cell_type": "code",
   "execution_count": 24,
   "metadata": {
    "ExecuteTime": {
     "end_time": "2021-05-14T14:57:00.811370Z",
     "start_time": "2021-05-14T14:57:00.784372Z"
    }
   },
   "outputs": [],
   "source": [
    "search_bar = browser.find_element_by_class_name(\"gLFyf\")"
   ]
  },
  {
   "cell_type": "code",
   "execution_count": 25,
   "metadata": {
    "ExecuteTime": {
     "end_time": "2021-05-14T14:57:01.432202Z",
     "start_time": "2021-05-14T14:57:01.288528Z"
    }
   },
   "outputs": [],
   "source": [
    "search_bar.send_keys(\"Hello world!\")"
   ]
  },
  {
   "cell_type": "code",
   "execution_count": 26,
   "metadata": {
    "ExecuteTime": {
     "end_time": "2021-05-14T14:57:03.977255Z",
     "start_time": "2021-05-14T14:57:02.295573Z"
    }
   },
   "outputs": [],
   "source": [
    "search_bar.send_keys(Keys.ENTER)"
   ]
  },
  {
   "cell_type": "code",
   "execution_count": 27,
   "metadata": {
    "ExecuteTime": {
     "end_time": "2021-05-14T14:58:45.992451Z",
     "start_time": "2021-05-14T14:58:45.961456Z"
    }
   },
   "outputs": [
    {
     "data": {
      "text/plain": [
       "[<selenium.webdriver.remote.webelement.WebElement (session=\"6661d6c55def334a8cb98e93c7c30fe0\", element=\"16624f8d-4e4d-4bcc-9e79-636b4f20daef\")>,\n",
       " <selenium.webdriver.remote.webelement.WebElement (session=\"6661d6c55def334a8cb98e93c7c30fe0\", element=\"4bce384b-a906-4707-8a8c-e465e006eeb6\")>,\n",
       " <selenium.webdriver.remote.webelement.WebElement (session=\"6661d6c55def334a8cb98e93c7c30fe0\", element=\"3eb63553-3b3e-4a1a-b8e7-516cb59c9210\")>,\n",
       " <selenium.webdriver.remote.webelement.WebElement (session=\"6661d6c55def334a8cb98e93c7c30fe0\", element=\"d59f2c71-4e35-4d61-9a85-97ad533250cf\")>,\n",
       " <selenium.webdriver.remote.webelement.WebElement (session=\"6661d6c55def334a8cb98e93c7c30fe0\", element=\"ee9b3000-c429-4593-b768-3fa5455bd8c6\")>,\n",
       " <selenium.webdriver.remote.webelement.WebElement (session=\"6661d6c55def334a8cb98e93c7c30fe0\", element=\"c7cffabb-9c1f-43b6-a301-659b9f4270bb\")>,\n",
       " <selenium.webdriver.remote.webelement.WebElement (session=\"6661d6c55def334a8cb98e93c7c30fe0\", element=\"dd8c6b7c-868d-4f79-9c5c-9238a3a4d3b6\")>,\n",
       " <selenium.webdriver.remote.webelement.WebElement (session=\"6661d6c55def334a8cb98e93c7c30fe0\", element=\"d55bb8e0-3c73-43d0-9fb2-cff92b241c48\")>,\n",
       " <selenium.webdriver.remote.webelement.WebElement (session=\"6661d6c55def334a8cb98e93c7c30fe0\", element=\"23375308-4003-41b1-9196-dbf852855b28\")>,\n",
       " <selenium.webdriver.remote.webelement.WebElement (session=\"6661d6c55def334a8cb98e93c7c30fe0\", element=\"01b227e9-d0ef-4e8f-ab50-351e49bf93cf\")>,\n",
       " <selenium.webdriver.remote.webelement.WebElement (session=\"6661d6c55def334a8cb98e93c7c30fe0\", element=\"06d9b888-7964-4655-a755-7c88de13afc8\")>]"
      ]
     },
     "execution_count": 27,
     "metadata": {},
     "output_type": "execute_result"
    }
   ],
   "source": [
    "browser.find_elements_by_class_name(\"g\")"
   ]
  },
  {
   "cell_type": "code",
   "execution_count": 22,
   "metadata": {
    "ExecuteTime": {
     "end_time": "2021-05-14T14:55:31.357045Z",
     "start_time": "2021-05-14T14:55:29.082888Z"
    }
   },
   "outputs": [],
   "source": [
    "browser.quit()"
   ]
  }
 ],
 "metadata": {
  "kernelspec": {
   "display_name": "Python 3",
   "language": "python",
   "name": "python3"
  },
  "language_info": {
   "codemirror_mode": {
    "name": "ipython",
    "version": 3
   },
   "file_extension": ".py",
   "mimetype": "text/x-python",
   "name": "python",
   "nbconvert_exporter": "python",
   "pygments_lexer": "ipython3",
   "version": "3.8.5"
  },
  "toc": {
   "base_numbering": 1,
   "nav_menu": {},
   "number_sections": true,
   "sideBar": true,
   "skip_h1_title": false,
   "title_cell": "Table of Contents",
   "title_sidebar": "Contents",
   "toc_cell": false,
   "toc_position": {},
   "toc_section_display": true,
   "toc_window_display": false
  }
 },
 "nbformat": 4,
 "nbformat_minor": 4
}
