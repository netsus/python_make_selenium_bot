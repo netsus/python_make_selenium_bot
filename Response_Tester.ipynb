{
 "cells": [
  {
   "cell_type": "code",
   "execution_count": 1,
   "metadata": {
    "ExecuteTime": {
     "end_time": "2021-05-31T15:53:59.282221Z",
     "start_time": "2021-05-31T15:53:58.861214Z"
    }
   },
   "outputs": [],
   "source": [
    "import time\n",
    "from math import ceil\n",
    "from selenium import webdriver\n",
    "from webdriver_manager.chrome import ChromeDriverManager"
   ]
  },
  {
   "cell_type": "code",
   "execution_count": 2,
   "metadata": {
    "ExecuteTime": {
     "end_time": "2021-05-31T15:54:03.675660Z",
     "start_time": "2021-05-31T15:53:59.286212Z"
    }
   },
   "outputs": [
    {
     "name": "stderr",
     "output_type": "stream",
     "text": [
      "\n",
      "\n",
      "====== WebDriver manager ======\n",
      "Current google-chrome version is 90.0.4430\n",
      "Get LATEST driver version for 90.0.4430\n",
      "Get LATEST driver version for 90.0.4430\n",
      "Trying to download new driver from https://chromedriver.storage.googleapis.com/90.0.4430.24/chromedriver_win32.zip\n",
      "Driver has been saved in cache [C:\\Users\\user\\.wdm\\drivers\\chromedriver\\win32\\90.0.4430.24]\n"
     ]
    }
   ],
   "source": [
    "browser = webdriver.Chrome(ChromeDriverManager().install())"
   ]
  },
  {
   "cell_type": "code",
   "execution_count": 3,
   "metadata": {
    "ExecuteTime": {
     "end_time": "2021-05-31T15:54:06.771711Z",
     "start_time": "2021-05-31T15:54:03.691665Z"
    }
   },
   "outputs": [],
   "source": [
    "browser.get(\"https://nomadcoders.co\")"
   ]
  },
  {
   "cell_type": "code",
   "execution_count": 4,
   "metadata": {
    "ExecuteTime": {
     "end_time": "2021-05-31T15:54:06.988728Z",
     "start_time": "2021-05-31T15:54:06.775711Z"
    }
   },
   "outputs": [],
   "source": [
    "browser.maximize_window()"
   ]
  },
  {
   "cell_type": "code",
   "execution_count": 18,
   "metadata": {
    "ExecuteTime": {
     "end_time": "2021-05-31T15:57:17.836413Z",
     "start_time": "2021-05-31T15:57:17.825405Z"
    }
   },
   "outputs": [],
   "source": [
    "# 브라우저 높이 확인\n",
    "BROWSER_HEIGHT = browser.get_window_size()['height']"
   ]
  },
  {
   "cell_type": "code",
   "execution_count": 5,
   "metadata": {
    "ExecuteTime": {
     "end_time": "2021-05-31T15:54:07.034715Z",
     "start_time": "2021-05-31T15:54:07.003718Z"
    }
   },
   "outputs": [],
   "source": [
    "## 배열에 스크린샷 찍을 웹의 사이즈들 저장\n",
    "sizes = [480, 960, 1366, 1920]"
   ]
  },
  {
   "cell_type": "code",
   "execution_count": 19,
   "metadata": {
    "ExecuteTime": {
     "end_time": "2021-05-31T15:57:25.770079Z",
     "start_time": "2021-05-31T15:57:18.045026Z"
    }
   },
   "outputs": [],
   "source": [
    "for size in sizes: ## width 별로 반복\n",
    "    browser.set_window_size(size, BROWSER_HEIGHT)\n",
    "    browser.execute_script(\"window.scrollTo(0,0)\") ## 최상단으로 이동\n",
    "    time.sleep(1)\n",
    "    scroll_size = browser.execute_script(\"return document.body.scrollHeight\") ## Js의 function 사용 - document의 높이 추출 (한페이지의 높이)\n",
    "    total_sections = ceil(scroll_size / BROWSER_HEIGHT) ## 전체 페이지의 높이를 browswer의 높이로 나누면 몇번 스크롤해야 할지가 나옴\n",
    "    for section in range(total_sections+1): # +1 한 이유는 0번쨰인 Top을 찍고, total_sections번 스크롤해서 내겨갈 것이기 때문 \n",
    "        browser.execute_script(f\"window.scrollTo(0, {(section) * BROWSER_HEIGHT})\")\n",
    "        browser.save_screenshot(f\"screenshots/{size}x{section}.png\")\n",
    "        time.sleep(0.5)"
   ]
  }
 ],
 "metadata": {
  "kernelspec": {
   "display_name": "Python 3",
   "language": "python",
   "name": "python3"
  },
  "language_info": {
   "codemirror_mode": {
    "name": "ipython",
    "version": 3
   },
   "file_extension": ".py",
   "mimetype": "text/x-python",
   "name": "python",
   "nbconvert_exporter": "python",
   "pygments_lexer": "ipython3",
   "version": "3.8.5"
  },
  "toc": {
   "base_numbering": 1,
   "nav_menu": {},
   "number_sections": true,
   "sideBar": true,
   "skip_h1_title": false,
   "title_cell": "Table of Contents",
   "title_sidebar": "Contents",
   "toc_cell": false,
   "toc_position": {},
   "toc_section_display": true,
   "toc_window_display": false
  }
 },
 "nbformat": 4,
 "nbformat_minor": 4
}
