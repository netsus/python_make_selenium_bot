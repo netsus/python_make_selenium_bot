{
 "cells": [
  {
   "cell_type": "code",
   "execution_count": 20,
   "metadata": {
    "ExecuteTime": {
     "end_time": "2021-05-28T12:22:16.182390Z",
     "start_time": "2021-05-28T12:22:16.170393Z"
    }
   },
   "outputs": [],
   "source": [
    "import time\n",
    "from math import ceil\n",
    "from selenium import webdriver\n",
    "from webdriver_manager.chrome import ChromeDriverManager"
   ]
  },
  {
   "cell_type": "code",
   "execution_count": 2,
   "metadata": {
    "ExecuteTime": {
     "end_time": "2021-05-28T12:13:04.746914Z",
     "start_time": "2021-05-28T12:13:00.856890Z"
    }
   },
   "outputs": [
    {
     "name": "stderr",
     "output_type": "stream",
     "text": [
      "\n",
      "\n",
      "====== WebDriver manager ======\n",
      "Current google-chrome version is 90.0.4430\n",
      "Get LATEST driver version for 90.0.4430\n",
      "Get LATEST driver version for 90.0.4430\n",
      "Trying to download new driver from https://chromedriver.storage.googleapis.com/90.0.4430.24/chromedriver_win32.zip\n",
      "Driver has been saved in cache [C:\\Users\\user\\.wdm\\drivers\\chromedriver\\win32\\90.0.4430.24]\n"
     ]
    }
   ],
   "source": [
    "browser = webdriver.Chrome(ChromeDriverManager().install())"
   ]
  },
  {
   "cell_type": "code",
   "execution_count": 3,
   "metadata": {
    "ExecuteTime": {
     "end_time": "2021-05-28T12:13:07.583912Z",
     "start_time": "2021-05-28T12:13:04.752917Z"
    }
   },
   "outputs": [],
   "source": [
    "browser.get(\"https://nomadcoders.co\")"
   ]
  },
  {
   "cell_type": "code",
   "execution_count": 14,
   "metadata": {
    "ExecuteTime": {
     "end_time": "2021-05-28T12:18:48.894059Z",
     "start_time": "2021-05-28T12:18:48.876061Z"
    }
   },
   "outputs": [],
   "source": [
    "browser.maximize_window()"
   ]
  },
  {
   "cell_type": "code",
   "execution_count": 15,
   "metadata": {
    "ExecuteTime": {
     "end_time": "2021-05-28T12:18:49.377041Z",
     "start_time": "2021-05-28T12:18:49.365043Z"
    }
   },
   "outputs": [],
   "source": [
    "sizes = [480, 960, 1366, 1920]"
   ]
  },
  {
   "cell_type": "code",
   "execution_count": 16,
   "metadata": {
    "ExecuteTime": {
     "end_time": "2021-05-28T12:18:50.137822Z",
     "start_time": "2021-05-28T12:18:50.115819Z"
    }
   },
   "outputs": [],
   "source": [
    "BROWSER_HEIGHT = browser.get_window_size()['height']"
   ]
  },
  {
   "cell_type": "code",
   "execution_count": 24,
   "metadata": {
    "ExecuteTime": {
     "end_time": "2021-05-28T12:27:40.096107Z",
     "start_time": "2021-05-28T12:27:34.281615Z"
    }
   },
   "outputs": [],
   "source": [
    "for size in sizes:\n",
    "    browser.set_window_size(size, BROWSER_HEIGHT)\n",
    "    time.sleep(1)\n",
    "    scroll_size = browser.execute_script(\"return document.body.scrollHeight\")\n",
    "    total_sections = ceil(scroll_size / BROWSER_HEIGHT)\n",
    "    for section in range(total_sections):\n",
    "        browser.execute_script(f\"window.scrollTo(0, {(section +1) * BROWSER_HEIGHT})\")"
   ]
  }
 ],
 "metadata": {
  "kernelspec": {
   "display_name": "Python 3",
   "language": "python",
   "name": "python3"
  },
  "language_info": {
   "codemirror_mode": {
    "name": "ipython",
    "version": 3
   },
   "file_extension": ".py",
   "mimetype": "text/x-python",
   "name": "python",
   "nbconvert_exporter": "python",
   "pygments_lexer": "ipython3",
   "version": "3.8.5"
  },
  "toc": {
   "base_numbering": 1,
   "nav_menu": {},
   "number_sections": true,
   "sideBar": true,
   "skip_h1_title": false,
   "title_cell": "Table of Contents",
   "title_sidebar": "Contents",
   "toc_cell": false,
   "toc_position": {},
   "toc_section_display": true,
   "toc_window_display": false
  }
 },
 "nbformat": 4,
 "nbformat_minor": 4
}
