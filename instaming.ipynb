{
 "cells": [
  {
   "cell_type": "code",
   "execution_count": 27,
   "metadata": {
    "ExecuteTime": {
     "end_time": "2021-06-03T14:23:13.683811Z",
     "start_time": "2021-06-03T14:23:13.675813Z"
    }
   },
   "outputs": [],
   "source": [
    "import time\n",
    "from selenium import webdriver\n",
    "from selenium.webdriver.common.keys import Keys\n",
    "from selenium.webdriver.common.by import By\n",
    "from selenium.webdriver.support import expected_conditions as EC\n",
    "from selenium.webdriver.support.ui import WebDriverWait\n",
    "from webdriver_manager.chrome import ChromeDriverManager\n",
    "from dotenv import dotenv_values\n",
    "config = dotenv_values(\".env\") "
   ]
  },
  {
   "cell_type": "code",
   "execution_count": 28,
   "metadata": {
    "ExecuteTime": {
     "end_time": "2021-06-03T14:23:16.225019Z",
     "start_time": "2021-06-03T14:23:14.082712Z"
    }
   },
   "outputs": [
    {
     "name": "stderr",
     "output_type": "stream",
     "text": [
      "\n",
      "\n",
      "====== WebDriver manager ======\n",
      "Current google-chrome version is 91.0.4472\n",
      "Get LATEST driver version for 91.0.4472\n",
      "Driver [C:\\Users\\user\\.wdm\\drivers\\chromedriver\\win32\\91.0.4472.19\\chromedriver.exe] found in cache\n"
     ]
    }
   ],
   "source": [
    "INSTAGRAM_ID = config['INSTAGRAM_ID']\n",
    "INSTAGRAM_PASSWORD = config['INSTAGRAM_PASSWORD']\n",
    "\n",
    "browser = webdriver.Chrome(ChromeDriverManager().install())"
   ]
  },
  {
   "cell_type": "code",
   "execution_count": 29,
   "metadata": {
    "ExecuteTime": {
     "end_time": "2021-06-03T14:23:18.946018Z",
     "start_time": "2021-06-03T14:23:16.231022Z"
    }
   },
   "outputs": [],
   "source": [
    "browser.get(\"https://www.instagram.com/accounts/login/\")\n",
    "\n",
    "WebDriverWait(browser, 3).until(\n",
    "EC.presence_of_element_located((By.CLASS_NAME, \"_2hvTZ\")))\n",
    "\n",
    "insta_id = browser.find_element_by_name(\"username\")\n",
    "insta_password = browser.find_element_by_name(\"password\")\n",
    "\n",
    "insta_id.send_keys(INSTAGRAM_ID)\n",
    "insta_password.send_keys(INSTAGRAM_PASSWORD)\n",
    "\n",
    "insta_password.send_keys(Keys.ENTER)"
   ]
  },
  {
   "cell_type": "code",
   "execution_count": 30,
   "metadata": {
    "ExecuteTime": {
     "end_time": "2021-06-03T14:23:18.962018Z",
     "start_time": "2021-06-03T14:23:18.950021Z"
    }
   },
   "outputs": [],
   "source": [
    "main_hashtag = \"python\""
   ]
  },
  {
   "cell_type": "code",
   "execution_count": 31,
   "metadata": {
    "ExecuteTime": {
     "end_time": "2021-06-03T14:23:22.315581Z",
     "start_time": "2021-06-03T14:23:21.282582Z"
    }
   },
   "outputs": [],
   "source": [
    "time.sleep(1)"
   ]
  },
  {
   "cell_type": "code",
   "execution_count": 32,
   "metadata": {
    "ExecuteTime": {
     "end_time": "2021-06-03T14:23:33.680367Z",
     "start_time": "2021-06-03T14:23:22.333584Z"
    }
   },
   "outputs": [],
   "source": [
    "browser.get(f\"https://www.instagram.com/explore/tags/{main_hashtag}\")\n",
    "time.sleep(4)"
   ]
  },
  {
   "cell_type": "code",
   "execution_count": null,
   "metadata": {},
   "outputs": [],
   "source": [
    "browswer.quit()"
   ]
  }
 ],
 "metadata": {
  "kernelspec": {
   "display_name": "Python 3",
   "language": "python",
   "name": "python3"
  },
  "language_info": {
   "codemirror_mode": {
    "name": "ipython",
    "version": 3
   },
   "file_extension": ".py",
   "mimetype": "text/x-python",
   "name": "python",
   "nbconvert_exporter": "python",
   "pygments_lexer": "ipython3",
   "version": "3.8.5"
  },
  "toc": {
   "base_numbering": 1,
   "nav_menu": {},
   "number_sections": true,
   "sideBar": true,
   "skip_h1_title": false,
   "title_cell": "Table of Contents",
   "title_sidebar": "Contents",
   "toc_cell": false,
   "toc_position": {},
   "toc_section_display": true,
   "toc_window_display": false
  }
 },
 "nbformat": 4,
 "nbformat_minor": 4
}
